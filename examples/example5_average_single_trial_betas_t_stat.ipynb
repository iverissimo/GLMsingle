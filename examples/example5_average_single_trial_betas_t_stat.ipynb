{
 "cells": [
  {
   "cell_type": "markdown",
   "metadata": {},
   "source": [
    "To run this script we recommend running example2 first to create all the\n",
    "necessary outpouts from GLMsingle that are going to be reused here.\n",
    "\n",
    "This script shows how to find single-trial beta weights in the output of\n",
    "the GLMsingle. We will show how to average them to create one response\n",
    "to each condition rather then a response to each trial. This will produce\n",
    "one beta weight for each condition. Additionaly we will show how to \n",
    "calculate a t-statistic for each condition and a contrast between two \n",
    "example conditions in the fLoc experiment (number vs. face) using single \n",
    "trial betas.\n"
   ]
  },
  {
   "cell_type": "markdown",
   "metadata": {},
   "source": [
    "### Import function libraries"
   ]
  },
  {
   "cell_type": "code",
   "execution_count": 1,
   "metadata": {},
   "outputs": [],
   "source": [
    "import numpy as np\n",
    "import scipy\n",
    "import scipy.io as sio\n",
    "import matplotlib.pyplot as plt\n",
    "\n",
    "import os\n",
    "from os.path import join, exists, split\n",
    "import warnings\n",
    "warnings.filterwarnings('ignore')\n",
    "\n",
    "from glmsingle.glmsingle import GLM_single"
   ]
  },
  {
   "cell_type": "markdown",
   "metadata": {},
   "source": [
    "### Set paths and load the example2 design matrices"
   ]
  },
  {
   "cell_type": "code",
   "execution_count": 113,
   "metadata": {},
   "outputs": [],
   "source": [
    "# get path to the directory to which GLMsingle was installed\n",
    "datadir = join(homedir,'examples','data')\n",
    "homedir = split(os.getcwd())[0]\n",
    "datafn = join(datadir,'nsdflocexampledataset.mat')\n",
    "X = sio.loadmat(datafn)\n",
    "\n",
    "nruns = len(X['data'][0])\n",
    "design = []\n",
    "data  = []\n",
    "# iterate through each run of data\n",
    "for r in range(nruns):\n",
    "    \n",
    "    # convert each run design matrix from sparse array to full numpy array, append\n",
    "    design.append(scipy.sparse.csr_matrix.toarray(X['design'][0,r]))\n",
    "    data.append(X['data'][0,r])\n",
    "\n",
    "\n",
    "xyz = data[0].shape[:3]\n",
    "xyzt = data[0].shape\n"
   ]
  },
  {
   "cell_type": "code",
   "execution_count": 27,
   "metadata": {},
   "outputs": [],
   "source": [
    "# This NSD fLOC scan session has 6 repetitions of each condition per run.\n",
    "# In the code below, we are attempting to locate the indices in the beta\n",
    "# weight GLMsingle outputs modelmd(x,y,z,trials) that correspond to\n",
    "# repeated conditions.\n",
    "\n",
    "designALL = np.concatenate(design,axis=0)\n",
    "\n",
    "# construct a vector containing 0-indexed condition numbers in chronological order\n",
    "corder = []\n",
    "for p in range(designALL.shape[0]):\n",
    "    if np.any(designALL[p]):\n",
    "        corder.append(np.argwhere(designALL[p])[0,0])\n",
    "        \n",
    "corder = np.array(corder)\n",
    "\n"
   ]
  },
  {
   "cell_type": "code",
   "execution_count": 51,
   "metadata": {},
   "outputs": [
    {
     "data": {
      "text/plain": [
       "'There are 24 repetition of 10 unique conditions'"
      ]
     },
     "execution_count": 51,
     "metadata": {},
     "output_type": "execute_result"
    }
   ],
   "source": [
    "# We will now find indices for each condition. First lets find all unique\n",
    "# condition in the corder list\n",
    "\n",
    "repindices = []\n",
    "\n",
    "for p in range(designALL.shape[1]): # loop over every condition\n",
    "    temp = np.argwhere(corder==p)[:,0] # find indices where this condition was shown\n",
    "    if len(temp) >= 3:\n",
    "        repindices.append(temp)\n",
    "\n",
    "repindices = np.vstack(np.array(repindices)).T      \n",
    "\n",
    "\"There are %i repetition of %i unique conditions\" % (np.shape(repindices)[0], np.shape(repindices)[1])"
   ]
  },
  {
   "cell_type": "code",
   "execution_count": 52,
   "metadata": {},
   "outputs": [],
   "source": [
    "# Knowing the indicies of each condition we can now load an example output\n",
    "# of GLMsingle and create 1 beta weight for each condition. In the example\n",
    "# 1 there are 10 unique conditions."
   ]
  },
  {
   "cell_type": "markdown",
   "metadata": {},
   "source": [
    "### Load GLMsingle results from example2 "
   ]
  },
  {
   "cell_type": "code",
   "execution_count": 53,
   "metadata": {},
   "outputs": [],
   "source": [
    "results_glmsingle = dict()\n",
    "outputdir_glmsingle = join(homedir,'examples','example2outputs','GLMsingle')\n",
    "results_glmsingle['typed'] = np.load(join(outputdir_glmsingle,'TYPED_FITHRF_GLMDENOISE_RR.npy'),allow_pickle=True).item()"
   ]
  },
  {
   "cell_type": "code",
   "execution_count": 90,
   "metadata": {},
   "outputs": [],
   "source": [
    "betas = results_glmsingle['typed']['betasmd']\n",
    "condition_list = np.unique(corder)\n",
    "betas_average = np.zeros([np.shape(betas)[0],np.shape(betas)[1],np.shape(betas)[2],len(condition_list)])\n",
    "\n",
    "for k in condition_list:\n",
    "    betas_average[:,:,:,k] = np.mean(betas[:,:,:,np.where(corder==0)[0]],3)\n",
    "\n"
   ]
  },
  {
   "cell_type": "code",
   "execution_count": 95,
   "metadata": {},
   "outputs": [
    {
     "name": "stdout",
     "output_type": "stream",
     "text": [
      "GLMsingle output had 240 betas before averaging \n",
      "\n",
      "GLMsingle output has 10 betas after averaging \n",
      "\n"
     ]
    }
   ],
   "source": [
    "print('GLMsingle output had %i betas before averaging \\n' % np.shape(betas)[3])\n",
    "print('GLMsingle output has %i betas after averaging \\n' % np.shape(betas_average)[3])"
   ]
  },
  {
   "cell_type": "code",
   "execution_count": 97,
   "metadata": {},
   "outputs": [],
   "source": [
    "# Calculate t-statistic for each condition\n",
    "# We calculate t-stat as the mean over the standard deviation across all\n",
    "# repetitions of the same condition. \n",
    "\n",
    "t_stat = np.zeros([np.shape(betas)[0],np.shape(betas)[1],np.shape(betas)[2],len(condition_list)])\n",
    "for k in condition_list:\n",
    "    t_stat[:,:,:,k] = np.mean(betas[:,:,:,np.where(corder==0)[0]],3) / np.std(betas[:,:,:,np.where(corder==0)[0]],3)\n"
   ]
  },
  {
   "cell_type": "code",
   "execution_count": 202,
   "metadata": {},
   "outputs": [],
   "source": [
    "# Calculate a contrast between condition 2 (number) and condition 5 (adult face)\n",
    "cond1 = betas[:,:,:,np.where(corder==1)[0]]\n",
    "cond2 = betas[:,:,:,np.where(corder==4)[0]]\n",
    "np.shape(cond2)\n",
    "ttest = scipy.stats.ttest_ind(cond1,cond2,3)\n",
    "tval = ttest[0];\n",
    "pval = ttest[1]\n"
   ]
  },
  {
   "cell_type": "code",
   "execution_count": 206,
   "metadata": {},
   "outputs": [
    {
     "data": {
      "image/png": "[encoded data removed]",
      "text/plain": [
       "<Figure size 3666.67x1200 with 2 Axes>"
      ]
     },
     "metadata": {},
     "output_type": "display_data"
    }
   ],
   "source": [
    "meanvol = np.squeeze(np.mean(data[0].reshape(xyzt),3))\n",
    "brainmask = meanvol > 275\n",
    "plt.figure(figsize=(55/1.5,18/1.5))\n",
    "\n",
    "s = 16 # pick a slice\n",
    "plot_data = t_stat;\n",
    "plot_data[~brainmask] = np.nan # remove values outside the brain for visualization purposes\n",
    "plot_data = plot_data[15:,5:-5,s,0]\n",
    "plt.subplot(3,5,c)\n",
    "plt.imshow(meanvol[15:,5:-5,s]/np.nanmax(meanvol[15:,5:-5,s]),\n",
    "            aspect='auto',cmap='gray',clim=(0,1), alpha=0.5)\n",
    "plt.imshow(plot_data,aspect='auto',cmap='RdBu_r',clim=(-2,2))\n",
    "plt.title('T-stat for the first condition',fontsize=18)\n",
    "plt.colorbar()\n",
    "plt.box(False)\n",
    "plt.axis(False)\n",
    "plt.show()\n",
    "# The t-statistic (t_stat) shows high values in the visual cortex"
   ]
  },
  {
   "cell_type": "code",
   "execution_count": 208,
   "metadata": {},
   "outputs": [
    {
     "data": {
      "image/png": "[encoded data removed]",
      "text/plain": [
       "<Figure size 3666.67x1200 with 2 Axes>"
      ]
     },
     "metadata": {},
     "output_type": "display_data"
    }
   ],
   "source": [
    "plt.figure(figsize=(55/1.5,18/1.5))\n",
    "\n",
    "s = 21 # pick a slice\n",
    "plot_data = tval;\n",
    "plot_data[~brainmask] = np.nan # remove values outside the brain for visualization purposes\n",
    "plot_data[~(pval<0.05)] = np.nan # remove values below p<0.05\n",
    "\n",
    "\n",
    "plot_data = plot_data[15:,5:-5,s]\n",
    "plt.subplot(3,5,1)\n",
    "plt.imshow(meanvol[15:,5:-5,s]/np.nanmax(meanvol[15:,5:-5,s]),\n",
    "            aspect='auto',cmap='gray',clim=(0,1), alpha=0.5)\n",
    "plt.imshow(plot_data,aspect='auto',cmap='RdBu_r',clim=(-4,4))\n",
    "plt.title('T-test (cond2 vs. cond5)',fontsize=18)\n",
    "plt.colorbar()\n",
    "plt.box(False)\n",
    "plt.axis(False)\n",
    "plt.show()\n",
    "# t-test between two conditions shows positive voxels in more ventral and\n",
    "# lateral portions of the brain."
   ]
  }
 ],
 "metadata": {
  "celltoolbar": "Raw Cell Format",
  "kernelspec": {
   "display_name": "Python 3",
   "language": "python",
   "name": "python3"
  },
  "language_info": {
   "codemirror_mode": {
    "name": "ipython",
    "version": 3
   },
   "file_extension": ".py",
   "mimetype": "text/x-python",
   "name": "python",
   "nbconvert_exporter": "python",
   "pygments_lexer": "ipython3",
   "version": "3.9.5"
  }
 },
 "nbformat": 4,
 "nbformat_minor": 4
}
